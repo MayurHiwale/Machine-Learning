{
 "cells": [
  {
   "cell_type": "code",
   "execution_count": 1,
   "id": "77017ada",
   "metadata": {},
   "outputs": [],
   "source": [
    "import pandas as pd\n",
    "import numpy as np"
   ]
  },
  {
   "cell_type": "markdown",
   "id": "fafe12de",
   "metadata": {},
   "source": [
    "### Mean -> avg"
   ]
  },
  {
   "cell_type": "code",
   "execution_count": 6,
   "id": "e5dbde60",
   "metadata": {},
   "outputs": [
    {
     "name": "stdout",
     "output_type": "stream",
     "text": [
      "[1, 2, 3]\n",
      "Mean of the given data: 2.0\n"
     ]
    }
   ],
   "source": [
    "data=[1,2,3]\n",
    "print(data)\n",
    "mean=np.mean(data)\n",
    "print('Mean of the given data:',mean)"
   ]
  },
  {
   "cell_type": "code",
   "execution_count": 14,
   "id": "fa752831",
   "metadata": {},
   "outputs": [
    {
     "name": "stdout",
     "output_type": "stream",
     "text": [
      "[1, 2, 3, 4]\n",
      "2.5\n"
     ]
    }
   ],
   "source": [
    "df=list(range(1,5))\n",
    "print(df)\n",
    "\n",
    "mean=np.mean(df)\n",
    "print(mean)"
   ]
  },
  {
   "cell_type": "code",
   "execution_count": 4,
   "id": "4fc7cbd2",
   "metadata": {},
   "outputs": [
    {
     "name": "stdout",
     "output_type": "stream",
     "text": [
      "89.76923076923077\n"
     ]
    }
   ],
   "source": [
    "import numpy\n",
    "\n",
    "speed = [99,86,87,88,111,86,103,87,94,78,77,85,86]\n",
    "\n",
    "x = numpy.mean(speed)\n",
    "\n",
    "print(x)"
   ]
  },
  {
   "cell_type": "markdown",
   "id": "970ca55d",
   "metadata": {},
   "source": [
    "### Median"
   ]
  },
  {
   "cell_type": "markdown",
   "id": "51a804c1",
   "metadata": {},
   "source": [
    "Use the NumPy median() method to find the middle value:"
   ]
  },
  {
   "cell_type": "code",
   "execution_count": 18,
   "id": "53c35516",
   "metadata": {},
   "outputs": [
    {
     "name": "stdout",
     "output_type": "stream",
     "text": [
      "Listed value: [1, 2, 3, 4, 5]\n",
      "Median value: 3.0\n"
     ]
    }
   ],
   "source": [
    "import numpy\n",
    "data=list(range(1,6))\n",
    "print('Listed value:',data)\n",
    "median_data=np.median(data)\n",
    "print('Median value:',median_data)"
   ]
  },
  {
   "cell_type": "code",
   "execution_count": 19,
   "id": "d866f310",
   "metadata": {},
   "outputs": [
    {
     "name": "stdout",
     "output_type": "stream",
     "text": [
      "Listed value: [1, 2, 3, 4, 5, 6]\n",
      "Median value: 3.5\n"
     ]
    }
   ],
   "source": [
    "import numpy\n",
    "data=list(range(1,7))\n",
    "print('Listed value:',data)\n",
    "median_data=np.median(data)\n",
    "print('Median value:',median_data)"
   ]
  },
  {
   "cell_type": "code",
   "execution_count": 20,
   "id": "7993b864",
   "metadata": {},
   "outputs": [
    {
     "name": "stdout",
     "output_type": "stream",
     "text": [
      "5.5\n"
     ]
    }
   ],
   "source": [
    "import numpy\n",
    "\n",
    "df=[1,8,4,7,9,0]\n",
    "y=np.median(df)\n",
    "print(y)"
   ]
  },
  {
   "cell_type": "code",
   "execution_count": 21,
   "id": "2a5b493e",
   "metadata": {},
   "outputs": [
    {
     "name": "stdout",
     "output_type": "stream",
     "text": [
      "87.0\n"
     ]
    }
   ],
   "source": [
    "import numpy\n",
    "\n",
    "speed = [99,86,87,88,111,86,103,87,94,78,77,85,86]\n",
    "\n",
    "x = numpy.median(speed)\n",
    "\n",
    "print(x)"
   ]
  },
  {
   "cell_type": "markdown",
   "id": "a171753b",
   "metadata": {},
   "source": [
    "## Mode"
   ]
  },
  {
   "cell_type": "markdown",
   "id": "9de96c82",
   "metadata": {},
   "source": [
    "1.The Mode value is the value that appears the most number of times:\n",
    "2.Scipy library is used to calculate mode."
   ]
  },
  {
   "cell_type": "code",
   "execution_count": 26,
   "id": "d4142ac5",
   "metadata": {},
   "outputs": [
    {
     "name": "stdout",
     "output_type": "stream",
     "text": [
      "[2, 2, 2, 2, 3, 3, 3, 1]\n",
      "ModeResult(mode=array([2]), count=array([4]))\n"
     ]
    },
    {
     "name": "stderr",
     "output_type": "stream",
     "text": [
      "C:\\Users\\Admin\\AppData\\Local\\Temp\\ipykernel_6576\\1183927412.py:5: FutureWarning: Unlike other reduction functions (e.g. `skew`, `kurtosis`), the default behavior of `mode` typically preserves the axis it acts along. In SciPy 1.11.0, this behavior will change: the default value of `keepdims` will become False, the `axis` over which the statistic is taken will be eliminated, and the value None will no longer be accepted. Set `keepdims` to True or False to avoid this warning.\n",
      "  y=stats.mode(df)\n"
     ]
    }
   ],
   "source": [
    "from scipy import stats\n",
    "\n",
    "df=[2,2,2,2,3,3,3,1]\n",
    "print(df)\n",
    "y=stats.mode(df)\n",
    "print(y)"
   ]
  },
  {
   "cell_type": "code",
   "execution_count": 25,
   "id": "f5dcc1ea",
   "metadata": {},
   "outputs": [
    {
     "name": "stdout",
     "output_type": "stream",
     "text": [
      "[11, 11, 11, 2, 4, 5, 5]\n",
      "ModeResult(mode=array([11]), count=array([3]))\n"
     ]
    },
    {
     "name": "stderr",
     "output_type": "stream",
     "text": [
      "C:\\Users\\Admin\\AppData\\Local\\Temp\\ipykernel_6576\\1094728358.py:5: FutureWarning: Unlike other reduction functions (e.g. `skew`, `kurtosis`), the default behavior of `mode` typically preserves the axis it acts along. In SciPy 1.11.0, this behavior will change: the default value of `keepdims` will become False, the `axis` over which the statistic is taken will be eliminated, and the value None will no longer be accepted. Set `keepdims` to True or False to avoid this warning.\n",
      "  y=stats.mode(data)\n"
     ]
    }
   ],
   "source": [
    "from scipy import stats\n",
    "\n",
    "data=[11,11,11,2,4,5,5]\n",
    "print(data)\n",
    "y=stats.mode(data)\n",
    "print(y)"
   ]
  },
  {
   "cell_type": "code",
   "execution_count": 29,
   "id": "81461948",
   "metadata": {},
   "outputs": [
    {
     "name": "stdout",
     "output_type": "stream",
     "text": [
      "[3, 3, 3, 2, 2, 2]\n",
      "ModeResult(mode=array([2]), count=array([3]))\n"
     ]
    },
    {
     "name": "stderr",
     "output_type": "stream",
     "text": [
      "C:\\Users\\Admin\\AppData\\Local\\Temp\\ipykernel_6576\\3365310830.py:5: FutureWarning: Unlike other reduction functions (e.g. `skew`, `kurtosis`), the default behavior of `mode` typically preserves the axis it acts along. In SciPy 1.11.0, this behavior will change: the default value of `keepdims` will become False, the `axis` over which the statistic is taken will be eliminated, and the value None will no longer be accepted. Set `keepdims` to True or False to avoid this warning.\n",
      "  y=stats.mode(df)\n"
     ]
    }
   ],
   "source": [
    "from scipy import stats\n",
    "\n",
    "df=[3,3,3,2,2,2]\n",
    "print(df)\n",
    "y=stats.mode(df)\n",
    "print(y)"
   ]
  },
  {
   "cell_type": "code",
   "execution_count": null,
   "id": "f542c115",
   "metadata": {},
   "outputs": [],
   "source": []
  }
 ],
 "metadata": {
  "kernelspec": {
   "display_name": "Python 3 (ipykernel)",
   "language": "python",
   "name": "python3"
  },
  "language_info": {
   "codemirror_mode": {
    "name": "ipython",
    "version": 3
   },
   "file_extension": ".py",
   "mimetype": "text/x-python",
   "name": "python",
   "nbconvert_exporter": "python",
   "pygments_lexer": "ipython3",
   "version": "3.9.7"
  }
 },
 "nbformat": 4,
 "nbformat_minor": 5
}
