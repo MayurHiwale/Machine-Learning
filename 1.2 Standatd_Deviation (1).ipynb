{
 "cells": [
  {
   "cell_type": "markdown",
   "id": "cdea777b",
   "metadata": {},
   "source": [
    "variance: How away your datapoint from mean."
   ]
  },
  {
   "cell_type": "code",
   "execution_count": 1,
   "id": "ed08796b",
   "metadata": {},
   "outputs": [],
   "source": [
    "#import pandas as pd\n",
    "import numpy as np"
   ]
  },
  {
   "cell_type": "code",
   "execution_count": 5,
   "id": "a06d788f",
   "metadata": {},
   "outputs": [
    {
     "name": "stdout",
     "output_type": "stream",
     "text": [
      "Original Data: [1, 4, 6, 8]\n",
      "variance of the dataset: 6.6875\n",
      "Round value: 6.7\n"
     ]
    }
   ],
   "source": [
    "data_set=[1,4,6,8]\n",
    "print('Original Data:',data_set)\n",
    "var_data=np.var(data_set)\n",
    "print('variance of the dataset:',var_data)\n",
    "x=np.round(var_data,1)\n",
    "print('Round value:',x)"
   ]
  },
  {
   "cell_type": "code",
   "execution_count": 4,
   "id": "1ba6ba49",
   "metadata": {},
   "outputs": [
    {
     "name": "stdout",
     "output_type": "stream",
     "text": [
      "[1, 2, 3, 4]\n",
      "1.25\n"
     ]
    }
   ],
   "source": [
    "df=list(range(1,5))\n",
    "print(df)\n",
    "y=np.var(df)\n",
    "print(y)"
   ]
  },
  {
   "cell_type": "markdown",
   "id": "2613899c",
   "metadata": {},
   "source": [
    "Standard Deviation: It is square root of the variance"
   ]
  },
  {
   "cell_type": "code",
   "execution_count": 9,
   "id": "49320263",
   "metadata": {},
   "outputs": [
    {
     "name": "stdout",
     "output_type": "stream",
     "text": [
      "[1, 2, 6, 8, 9]\n",
      "std_deviation of the given data: 3.1874754901018454\n",
      "3.19\n"
     ]
    }
   ],
   "source": [
    "df=[1,2,6,8,9]\n",
    "print(df)\n",
    "std_dev=np.std(df)\n",
    "print('std_deviation of the given data:',std_dev)\n",
    "round_up_data=np.round(std_dev,2)\n",
    "print(round_up_data)"
   ]
  },
  {
   "cell_type": "code",
   "execution_count": 7,
   "id": "4ae256e9",
   "metadata": {},
   "outputs": [
    {
     "name": "stdout",
     "output_type": "stream",
     "text": [
      "[1, 2, 3, 4, 5, 6, 7, 8, 9]\n",
      "2.581988897471611\n",
      "2.58\n"
     ]
    }
   ],
   "source": [
    "data=[i for i in range(1,10)]\n",
    "print(data)\n",
    "\n",
    "y=np.std(data)\n",
    "print(y)\n",
    "z=np.round(y,2)\n",
    "print(z)\n"
   ]
  },
  {
   "cell_type": "markdown",
   "id": "4b615f35",
   "metadata": {},
   "source": [
    "### Kurtosis"
   ]
  },
  {
   "cell_type": "code",
   "execution_count": 12,
   "id": "4c4d8b6d",
   "metadata": {},
   "outputs": [
    {
     "data": {
      "text/plain": [
       "-1.5"
      ]
     },
     "execution_count": 12,
     "metadata": {},
     "output_type": "execute_result"
    }
   ],
   "source": [
    "from scipy import stats\n",
    "import scipy\n",
    "\n",
    "df=[1,2,3]\n",
    "df=stats.kurtosis(df)\n",
    "df"
   ]
  },
  {
   "cell_type": "code",
   "execution_count": 15,
   "id": "7ec3454e",
   "metadata": {},
   "outputs": [
    {
     "name": "stdout",
     "output_type": "stream",
     "text": [
      "-1.5\n"
     ]
    }
   ],
   "source": [
    "df1=[1,2,3]\n",
    "\n",
    "df_2=stats.kurtosis(df1)   # anaother way to find out kurtosis\n",
    "print(df_2)"
   ]
  },
  {
   "cell_type": "code",
   "execution_count": 9,
   "id": "ce825834",
   "metadata": {},
   "outputs": [
    {
     "name": "stdout",
     "output_type": "stream",
     "text": [
      "[1, 2, 3, 4, 5, 6, 7, 8, 9, 10, 11, 12, 13, 14, 15, 16, 17, 18, 19]\n",
      "-1.2066666666666668\n"
     ]
    }
   ],
   "source": [
    "from scipy import stats\n",
    "import scipy\n",
    "\n",
    "data=list(range(1,20))\n",
    "print(data)\n",
    "\n",
    "a=scipy.stats.kurtosis(data)\n",
    "print(a)"
   ]
  },
  {
   "cell_type": "code",
   "execution_count": 10,
   "id": "9c19f10e",
   "metadata": {},
   "outputs": [
    {
     "name": "stdout",
     "output_type": "stream",
     "text": [
      "-0.29271198374234686\n"
     ]
    }
   ],
   "source": [
    "from scipy.stats import kurtosis\n",
    "  \n",
    "# Creating a dataset\n",
    "dataset = [88, 85, 82, 97, 67, 77, 74, 86,\n",
    "           81, 95, 77, 88, 85, 76, 81]\n",
    "  \n",
    "  \n",
    "# Calculate the kurtosis\n",
    "print(kurtosis(dataset, axis=0, bias=True))"
   ]
  },
  {
   "cell_type": "markdown",
   "id": "59ed5153",
   "metadata": {},
   "source": [
    "array: Input array or object having the elements.\n",
    "axis: It represents the axis along which the kurtosis value is to be measured. By default axis = 0.\n",
    "fisher = True: The fisher’s definition will be used (normal 0.0).\n",
    "fisher =  False: The Pearson’s definition will be used (normal 3.0).\n",
    "Bias = True: Calculations are corrected for statistical bias, if set to False."
   ]
  }
 ],
 "metadata": {
  "kernelspec": {
   "display_name": "Python 3 (ipykernel)",
   "language": "python",
   "name": "python3"
  },
  "language_info": {
   "codemirror_mode": {
    "name": "ipython",
    "version": 3
   },
   "file_extension": ".py",
   "mimetype": "text/x-python",
   "name": "python",
   "nbconvert_exporter": "python",
   "pygments_lexer": "ipython3",
   "version": "3.9.7"
  }
 },
 "nbformat": 4,
 "nbformat_minor": 5
}
